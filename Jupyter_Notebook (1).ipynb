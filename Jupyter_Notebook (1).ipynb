{
 "cells": [
  {
   "cell_type": "markdown",
   "metadata": {
    "tags": []
   },
   "source": [
    "# My Jupyter Notebook on IBM Watson Studio"
   ]
  },
  {
   "cell_type": "markdown",
   "metadata": {},
   "source": [
    "__Simon Goldring__<br>Finance Manager"
   ]
  },
  {
   "cell_type": "markdown",
   "metadata": {},
   "source": [
    "_I am interested in data science because I am passionate about sharing actionable intelligence with stakeholders._"
   ]
  },
  {
   "cell_type": "markdown",
   "metadata": {},
   "source": [
    "### My code adds the integers from 1 to 10 and shows the total."
   ]
  },
  {
   "cell_type": "code",
   "execution_count": 9,
   "metadata": {},
   "outputs": [
    {
     "data": {
      "text/plain": [
       "55"
      ]
     },
     "execution_count": 9,
     "metadata": {},
     "output_type": "execute_result"
    }
   ],
   "source": [
    "sum(range(1, 11))"
   ]
  },
  {
   "cell_type": "markdown",
   "metadata": {},
   "source": [
    "_Bulleted List_\n",
    "\n",
    "- main point 1\n",
    "    - sub point 1.1\n",
    "    - sub point 1.2\n",
    "- main point 2\n",
    "    - sub point 2.1\n",
    "    \n",
    "_Table_\n",
    "\n",
    "|  | Col 1 | Col 2 |\n",
    "| --- | --- | --- |\n",
    "| Row 1 | R1C1 Value | ~~F1C2 Value~~ |\n",
    "| Row 2 | R2C1 Value | F2C2 Value |\n",
    "\n",
    "_Hyperlink with Tooltip_\n",
    "\n",
    "[www.ibm.com](www.ibm.com \"Custom Tooltip\")"
   ]
  },
  {
   "cell_type": "code",
   "execution_count": null,
   "metadata": {},
   "outputs": [],
   "source": []
  },
  {
   "cell_type": "raw",
   "metadata": {},
   "source": []
  }
 ],
 "metadata": {
  "kernelspec": {
   "display_name": "Python",
   "language": "python",
   "name": "conda-env-python-py"
  },
  "language_info": {
   "codemirror_mode": {
    "name": "ipython",
    "version": 3
   },
   "file_extension": ".py",
   "mimetype": "text/x-python",
   "name": "python",
   "nbconvert_exporter": "python",
   "pygments_lexer": "ipython3",
   "version": "3.7.12"
  }
 },
 "nbformat": 4,
 "nbformat_minor": 4
}
